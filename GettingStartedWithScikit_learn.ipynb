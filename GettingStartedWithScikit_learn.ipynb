{
 "cells": [
  {
   "cell_type": "code",
   "execution_count": 1,
   "metadata": {},
   "outputs": [
    {
     "name": "stdout",
     "output_type": "stream",
     "text": [
      "Requirement already up-to-date: scikit-learn in c:\\users\\mainakd\\appdata\\local\\programs\\python\\python37\\lib\\site-packages (0.21.3)\n",
      "Requirement already satisfied, skipping upgrade: joblib>=0.11 in c:\\users\\mainakd\\appdata\\local\\programs\\python\\python37\\lib\\site-packages (from scikit-learn) (0.14.0)\n",
      "Requirement already satisfied, skipping upgrade: scipy>=0.17.0 in c:\\users\\mainakd\\appdata\\local\\programs\\python\\python37\\lib\\site-packages (from scikit-learn) (1.3.2)\n",
      "Requirement already satisfied, skipping upgrade: numpy>=1.11.0 in c:\\users\\mainakd\\appdata\\local\\programs\\python\\python37\\lib\\site-packages (from scikit-learn) (1.17.4)\n"
     ]
    }
   ],
   "source": [
    "!pip3 install -U scikit-learn"
   ]
  },
  {
   "cell_type": "code",
   "execution_count": 5,
   "metadata": {},
   "outputs": [],
   "source": [
    "import sklearn\n",
    "import numpy as np\n",
    "import pandas as pd\n",
    "from pprint import pprint as pp"
   ]
  },
  {
   "cell_type": "code",
   "execution_count": 8,
   "metadata": {},
   "outputs": [
    {
     "name": "stdout",
     "output_type": "stream",
     "text": [
      "'0.21.3'\n",
      "'1.17.4'\n",
      "'0.25.3'\n"
     ]
    }
   ],
   "source": [
    "pp(sklearn.__version__)\n",
    "pp(np.__version__)\n",
    "pp(pd.__version__)"
   ]
  },
  {
   "cell_type": "code",
   "execution_count": 9,
   "metadata": {},
   "outputs": [],
   "source": [
    "import matplotlib.pyplot as plt\n",
    "import seaborn as sns"
   ]
  },
  {
   "cell_type": "code",
   "execution_count": 12,
   "metadata": {},
   "outputs": [],
   "source": [
    "df = pd.read_csv(r\"C:\\Users\\mainakd\\Documents\\AKshayTask\\nlp\\machine_learning_self_study_udemy\\model\\datasets\\boston_data.csv\")"
   ]
  },
  {
   "cell_type": "code",
   "execution_count": 13,
   "metadata": {},
   "outputs": [
    {
     "name": "stdout",
     "output_type": "stream",
     "text": [
      "Index(['ID', 'indus', 'chas', 'nox', 'rm', 'age', 'dis', 'rad', 'tax',\n",
      "       'ptratio', 'lstat', 'medv'],\n",
      "      dtype='object')\n"
     ]
    }
   ],
   "source": [
    "pp(df.columns)"
   ]
  },
  {
   "cell_type": "code",
   "execution_count": 14,
   "metadata": {},
   "outputs": [
    {
     "name": "stdout",
     "output_type": "stream",
     "text": [
      "   ID  indus  chas    nox     rm   age     dis  rad  tax  ptratio  lstat  medv\n",
      "0   1   2.31     0  0.538  6.575  65.2  4.0900    1  296     15.3   4.98  24.0\n",
      "1   2   7.07     0  0.469  6.421  78.9  4.9671    2  242     17.8   9.14  21.6\n",
      "2   4   2.18     0  0.458  6.998  45.8  6.0622    3  222     18.7   2.94  33.4\n",
      "3   5   2.18     0  0.458  7.147  54.2  6.0622    3  222     18.7   5.33  36.2\n",
      "4   7   7.87     0  0.524  6.012  66.6  5.5605    5  311     15.2  12.43  22.9\n"
     ]
    }
   ],
   "source": [
    "pp(df.head())"
   ]
  },
  {
   "cell_type": "code",
   "execution_count": 19,
   "metadata": {},
   "outputs": [
    {
     "name": "stdout",
     "output_type": "stream",
     "text": [
      "(333, 12)\n"
     ]
    }
   ],
   "source": [
    "# shape showed you how many records you have to work.\n",
    "pp(df.shape) \n"
   ]
  },
  {
   "cell_type": "code",
   "execution_count": 18,
   "metadata": {},
   "outputs": [
    {
     "name": "stdout",
     "output_type": "stream",
     "text": [
      "<class 'pandas.core.frame.DataFrame'>\n",
      "RangeIndex: 333 entries, 0 to 332\n",
      "Data columns (total 12 columns):\n",
      "ID         333 non-null int64\n",
      "indus      333 non-null float64\n",
      "chas       333 non-null int64\n",
      "nox        333 non-null float64\n",
      "rm         333 non-null float64\n",
      "age        333 non-null float64\n",
      "dis        333 non-null float64\n",
      "rad        333 non-null int64\n",
      "tax        333 non-null int64\n",
      "ptratio    333 non-null float64\n",
      "lstat      333 non-null float64\n",
      "medv       333 non-null float64\n",
      "dtypes: float64(8), int64(4)\n",
      "memory usage: 31.3 KB\n",
      "None\n"
     ]
    }
   ],
   "source": [
    "# Info give you quick overview of the data.\n",
    "pp(df.info())"
   ]
  },
  {
   "cell_type": "code",
   "execution_count": 20,
   "metadata": {},
   "outputs": [
    {
     "name": "stdout",
     "output_type": "stream",
     "text": [
      "               ID       indus        chas         nox          rm         age  \\\n",
      "count  333.000000  333.000000  333.000000  333.000000  333.000000  333.000000   \n",
      "mean   250.951952   11.293483    0.060060    0.557144    6.265619   68.226426   \n",
      "std    147.859438    6.998123    0.237956    0.114955    0.703952   28.133344   \n",
      "min      1.000000    0.740000    0.000000    0.385000    3.561000    6.000000   \n",
      "25%    123.000000    5.130000    0.000000    0.453000    5.884000   45.400000   \n",
      "50%    244.000000    9.900000    0.000000    0.538000    6.202000   76.700000   \n",
      "75%    377.000000   18.100000    0.000000    0.631000    6.595000   93.800000   \n",
      "max    506.000000   27.740000    1.000000    0.871000    8.725000  100.000000   \n",
      "\n",
      "              dis         rad         tax     ptratio       lstat        medv  \n",
      "count  333.000000  333.000000  333.000000  333.000000  333.000000  333.000000  \n",
      "mean     3.709934    9.633634  409.279279   18.448048   12.515435   22.768769  \n",
      "std      1.981123    8.742174  170.841988    2.151821    7.067781    9.173468  \n",
      "min      1.129600    1.000000  188.000000   12.600000    1.730000    5.000000  \n",
      "25%      2.122400    4.000000  279.000000   17.400000    7.180000   17.400000  \n",
      "50%      3.092300    5.000000  330.000000   19.000000   10.970000   21.600000  \n",
      "75%      5.116700   24.000000  666.000000   20.200000   16.420000   25.000000  \n",
      "max     10.710300   24.000000  711.000000   21.200000   37.970000   50.000000  \n"
     ]
    }
   ],
   "source": [
    "# Describe gives you quick statistical overview\n",
    "pp(df.describe())"
   ]
  },
  {
   "cell_type": "code",
   "execution_count": 21,
   "metadata": {},
   "outputs": [
    {
     "data": {
      "text/plain": [
       "Text(1.6749999999999972, 0.5, 'median value of owner-occupied homes in $1000s.')"
      ]
     },
     "execution_count": 21,
     "metadata": {},
     "output_type": "execute_result"
    },
    {
     "data": {
      "image/png": "[encoded data removed]",
      "text/plain": [
       "<Figure size 360x360 with 1 Axes>"
      ]
     },
     "metadata": {
      "needs_background": "light"
     },
     "output_type": "display_data"
    }
   ],
   "source": [
    "# plot between number of rooms for dwelling and the median value\n",
    "# lmplot in seaborn library gives you scatter plot representation and also try and fit the linear model\n",
    "sns.lmplot('rm', 'medv', df)\n",
    "plt.xlabel(\"number of rooms per dwelling\")\n",
    "plt.ylabel(\"median value of owner-occupied homes in $1000s.\")"
   ]
  },
  {
   "cell_type": "code",
   "execution_count": 22,
   "metadata": {},
   "outputs": [
    {
     "data": {
      "text/plain": [
       "Text(10.049999999999997, 0.5, 'median value of owner-occupied homes in $1000s.')"
      ]
     },
     "execution_count": 22,
     "metadata": {},
     "output_type": "execute_result"
    },
    {
     "data": {
      "image/png": "[encoded data removed]",
      "text/plain": [
       "<Figure size 360x360 with 1 Axes>"
      ]
     },
     "metadata": {
      "needs_background": "light"
     },
     "output_type": "display_data"
    }
   ],
   "source": [
    "sns.lmplot('age', 'medv', df)\n",
    "plt.xlabel(\"age of the dwelling\")\n",
    "plt.ylabel(\"median value of owner-occupied homes in $1000s.\")\n",
    "## This is the negative relationship, older room has lower value."
   ]
  },
  {
   "cell_type": "code",
   "execution_count": 23,
   "metadata": {},
   "outputs": [
    {
     "data": {
      "text/plain": [
       "Text(10.049999999999997, 0.5, 'median value of owner-occupied homes in $1000s.')"
      ]
     },
     "execution_count": 23,
     "metadata": {},
     "output_type": "execute_result"
    },
    {
     "data": {
      "image/png": "[encoded data removed]",
      "text/plain": [
       "<Figure size 360x360 with 1 Axes>"
      ]
     },
     "metadata": {
      "needs_background": "light"
     },
     "output_type": "display_data"
    }
   ],
   "source": [
    "sns.lmplot('ptratio', 'medv', df)\n",
    "plt.xlabel(\"pupil-teacher ratio\")\n",
    "plt.ylabel(\"median value of owner-occupied homes in $1000s.\")\n",
    "## Number of pupil-teacher is less home price is high "
   ]
  },
  {
   "cell_type": "code",
   "execution_count": 25,
   "metadata": {},
   "outputs": [],
   "source": [
    "## Linear Regression Model\n",
    "from sklearn.linear_model import LinearRegression\n",
    "from sklearn.model_selection import train_test_split"
   ]
  },
  {
   "cell_type": "code",
   "execution_count": 33,
   "metadata": {},
   "outputs": [
    {
     "data": {
      "text/plain": [
       "((266, 11), (266,))"
      ]
     },
     "execution_count": 33,
     "metadata": {},
     "output_type": "execute_result"
    }
   ],
   "source": [
    "X = df.drop('medv', axis =1)\n",
    "Y = df[\"medv\"]\n",
    "\n",
    "x_train, x_test,  y_train, y_test = train_test_split(X,Y, test_size = 0.2, random_state =0)\n",
    "\n",
    "x_train.shape, y_train.shape"
   ]
  },
  {
   "cell_type": "code",
   "execution_count": 34,
   "metadata": {},
   "outputs": [
    {
     "data": {
      "text/plain": [
       "((67, 11), (67,))"
      ]
     },
     "execution_count": 34,
     "metadata": {},
     "output_type": "execute_result"
    }
   ],
   "source": [
    "x_test.shape, y_test.shape"
   ]
  },
  {
   "cell_type": "code",
   "execution_count": 35,
   "metadata": {},
   "outputs": [
    {
     "data": {
      "text/plain": [
       "LinearRegression(copy_X=True, fit_intercept=True, n_jobs=None, normalize=False)"
      ]
     },
     "execution_count": 35,
     "metadata": {},
     "output_type": "execute_result"
    }
   ],
   "source": [
    "# first create the estimater object \n",
    "linear_regression = LinearRegression()\n",
    "# Second fit on ur training data\n",
    "linear_regression.fit(x_train, y_train)"
   ]
  },
  {
   "cell_type": "code",
   "execution_count": 36,
   "metadata": {},
   "outputs": [
    {
     "data": {
      "text/plain": [
       "array([25.72012589, 29.1570861 , 15.87752682, 13.26991263, 22.85070692,\n",
       "       26.56624031, 26.75912172, 18.91817361, 25.67424846, 19.50488412,\n",
       "       16.67555269, 25.8489368 , 30.83101543, 37.24371838, 15.83586278,\n",
       "       33.54058199, 22.03888445, 25.92264011, 24.93233696, 24.51510402,\n",
       "       19.84540559, 19.79425713, 19.16907167,  5.12110727, 15.80116987,\n",
       "       21.99744642, 27.32610247, 38.15946555, 24.56522844, 25.32621341,\n",
       "       13.89741796, 34.63633465, 36.05117155, 20.24699992, 24.52275493,\n",
       "       11.4360184 , 24.68564234,  7.31547135, 20.53397172, 27.74346583,\n",
       "       20.52802225, 25.47816308, 26.62481351, 21.07438931, 21.87730439,\n",
       "       29.58720344, 26.67485129, 30.04691632, 21.19707433, 17.25486176,\n",
       "       38.27328304, 24.23285454, 22.13359278, 17.74846423, 26.98572138,\n",
       "       21.89631836, 16.04603651, 18.73974849, 30.70021618, 28.05806279,\n",
       "       31.56993958, 42.65796716, 23.3764715 , 17.61289178, 15.84112353,\n",
       "       25.41268219, 26.15530701])"
      ]
     },
     "execution_count": 36,
     "metadata": {},
     "output_type": "execute_result"
    }
   ],
   "source": [
    "y_pred = linear_regression.predict(x_test)\n",
    "y_pred"
   ]
  },
  {
   "cell_type": "code",
   "execution_count": 39,
   "metadata": {},
   "outputs": [
    {
     "data": {
      "text/html": [
       "<div>\n",
       "<style scoped>\n",
       "    .dataframe tbody tr th:only-of-type {\n",
       "        vertical-align: middle;\n",
       "    }\n",
       "\n",
       "    .dataframe tbody tr th {\n",
       "        vertical-align: top;\n",
       "    }\n",
       "\n",
       "    .dataframe thead th {\n",
       "        text-align: right;\n",
       "    }\n",
       "</style>\n",
       "<table border=\"1\" class=\"dataframe\">\n",
       "  <thead>\n",
       "    <tr style=\"text-align: right;\">\n",
       "      <th></th>\n",
       "      <th>y_test</th>\n",
       "      <th>y_pred</th>\n",
       "    </tr>\n",
       "  </thead>\n",
       "  <tbody>\n",
       "    <tr>\n",
       "      <th>100</th>\n",
       "      <td>17.8</td>\n",
       "      <td>7.315471</td>\n",
       "    </tr>\n",
       "    <tr>\n",
       "      <th>225</th>\n",
       "      <td>18.7</td>\n",
       "      <td>21.197074</td>\n",
       "    </tr>\n",
       "    <tr>\n",
       "      <th>290</th>\n",
       "      <td>12.6</td>\n",
       "      <td>17.612892</td>\n",
       "    </tr>\n",
       "    <tr>\n",
       "      <th>311</th>\n",
       "      <td>13.8</td>\n",
       "      <td>16.675553</td>\n",
       "    </tr>\n",
       "    <tr>\n",
       "      <th>176</th>\n",
       "      <td>48.8</td>\n",
       "      <td>38.273283</td>\n",
       "    </tr>\n",
       "    <tr>\n",
       "      <th>22</th>\n",
       "      <td>30.8</td>\n",
       "      <td>30.046916</td>\n",
       "    </tr>\n",
       "    <tr>\n",
       "      <th>215</th>\n",
       "      <td>25.0</td>\n",
       "      <td>25.674248</td>\n",
       "    </tr>\n",
       "    <tr>\n",
       "      <th>122</th>\n",
       "      <td>23.2</td>\n",
       "      <td>25.922640</td>\n",
       "    </tr>\n",
       "    <tr>\n",
       "      <th>322</th>\n",
       "      <td>15.2</td>\n",
       "      <td>11.436018</td>\n",
       "    </tr>\n",
       "    <tr>\n",
       "      <th>218</th>\n",
       "      <td>19.3</td>\n",
       "      <td>22.038884</td>\n",
       "    </tr>\n",
       "  </tbody>\n",
       "</table>\n",
       "</div>"
      ],
      "text/plain": [
       "     y_test     y_pred\n",
       "100    17.8   7.315471\n",
       "225    18.7  21.197074\n",
       "290    12.6  17.612892\n",
       "311    13.8  16.675553\n",
       "176    48.8  38.273283\n",
       "22     30.8  30.046916\n",
       "215    25.0  25.674248\n",
       "122    23.2  25.922640\n",
       "322    15.2  11.436018\n",
       "218    19.3  22.038884"
      ]
     },
     "execution_count": 39,
     "metadata": {},
     "output_type": "execute_result"
    }
   ],
   "source": [
    "df_y = pd.DataFrame({'y_test': y_test, 'y_pred': y_pred})\n",
    "df_y.sample(10)"
   ]
  },
  {
   "cell_type": "code",
   "execution_count": 41,
   "metadata": {},
   "outputs": [
    {
     "name": "stdout",
     "output_type": "stream",
     "text": [
      "'Training score or R^2 score: 0.7191154693675492'\n"
     ]
    }
   ],
   "source": [
    "## How good your Regression model?\n",
    "# R^2 score \n",
    "pp(\"Training score or R^2 score: {}\".format(linear_regression.score(x_train, y_train)))\n"
   ]
  },
  {
   "cell_type": "code",
   "execution_count": 42,
   "metadata": {},
   "outputs": [
    {
     "name": "stdout",
     "output_type": "stream",
     "text": [
      "'Testing score or r^2 score: 0.6917086895657434'\n"
     ]
    }
   ],
   "source": [
    "from sklearn.metrics import r2_score\n",
    "score = r2_score(y_test, y_pred)\n",
    "pp(\"Testing score or r^2 score: {}\".format(score))\n",
    "## It says that training r^2 score and testing score is nearly same that means it is decent model."
   ]
  },
  {
   "cell_type": "code",
   "execution_count": 46,
   "metadata": {},
   "outputs": [
    {
     "data": {
      "text/plain": [
       "array([[  1.  ,   1.  ,   2.31, ..., 296.  ,  15.3 ,   4.98],\n",
       "       [  1.  ,   2.  ,   7.07, ..., 242.  ,  17.8 ,   9.14],\n",
       "       [  1.  ,   4.  ,   2.18, ..., 222.  ,  18.7 ,   2.94],\n",
       "       ...,\n",
       "       [  1.  , 503.  ,  11.93, ..., 273.  ,  21.  ,   9.08],\n",
       "       [  1.  , 504.  ,  11.93, ..., 273.  ,  21.  ,   5.64],\n",
       "       [  1.  , 506.  ,  11.93, ..., 273.  ,  21.  ,   7.88]])"
      ]
     },
     "execution_count": 46,
     "metadata": {},
     "output_type": "execute_result"
    }
   ],
   "source": [
    "## Analytically Regression model test.\n",
    "\n",
    "import numpy as np\n",
    "import statsmodels.api as sm\n",
    "X = np.array(X)\n",
    "X"
   ]
  },
  {
   "cell_type": "code",
   "execution_count": 47,
   "metadata": {},
   "outputs": [
    {
     "data": {
      "text/plain": [
       "array([[  1.    ,   1.    ,   2.31  ,   0.    ,   0.538 ,   6.575 ,\n",
       "         65.2   ,   4.09  ,   1.    , 296.    ,  15.3   ,   4.98  ],\n",
       "       [  1.    ,   2.    ,   7.07  ,   0.    ,   0.469 ,   6.421 ,\n",
       "         78.9   ,   4.9671,   2.    , 242.    ,  17.8   ,   9.14  ],\n",
       "       [  1.    ,   4.    ,   2.18  ,   0.    ,   0.458 ,   6.998 ,\n",
       "         45.8   ,   6.0622,   3.    , 222.    ,  18.7   ,   2.94  ],\n",
       "       [  1.    ,   5.    ,   2.18  ,   0.    ,   0.458 ,   7.147 ,\n",
       "         54.2   ,   6.0622,   3.    , 222.    ,  18.7   ,   5.33  ],\n",
       "       [  1.    ,   7.    ,   7.87  ,   0.    ,   0.524 ,   6.012 ,\n",
       "         66.6   ,   5.5605,   5.    , 311.    ,  15.2   ,  12.43  ]])"
      ]
     },
     "execution_count": 47,
     "metadata": {},
     "output_type": "execute_result"
    }
   ],
   "source": [
    "# Add intercept\n",
    "X = sm.add_constant(X) \n",
    "\n",
    "X[:5]"
   ]
  },
  {
   "cell_type": "code",
   "execution_count": 48,
   "metadata": {},
   "outputs": [
    {
     "data": {
      "text/html": [
       "<table class=\"simpletable\">\n",
       "<caption>OLS Regression Results</caption>\n",
       "<tr>\n",
       "  <th>Dep. Variable:</th>          <td>medv</td>       <th>  R-squared:         </th> <td>   0.717</td>\n",
       "</tr>\n",
       "<tr>\n",
       "  <th>Model:</th>                   <td>OLS</td>       <th>  Adj. R-squared:    </th> <td>   0.707</td>\n",
       "</tr>\n",
       "<tr>\n",
       "  <th>Method:</th>             <td>Least Squares</td>  <th>  F-statistic:       </th> <td>   73.85</td>\n",
       "</tr>\n",
       "<tr>\n",
       "  <th>Date:</th>             <td>Sun, 17 Nov 2019</td> <th>  Prob (F-statistic):</th> <td>4.58e-81</td>\n",
       "</tr>\n",
       "<tr>\n",
       "  <th>Time:</th>                 <td>01:20:55</td>     <th>  Log-Likelihood:    </th> <td> -1000.0</td>\n",
       "</tr>\n",
       "<tr>\n",
       "  <th>No. Observations:</th>      <td>   333</td>      <th>  AIC:               </th> <td>   2024.</td>\n",
       "</tr>\n",
       "<tr>\n",
       "  <th>Df Residuals:</th>          <td>   321</td>      <th>  BIC:               </th> <td>   2070.</td>\n",
       "</tr>\n",
       "<tr>\n",
       "  <th>Df Model:</th>              <td>    11</td>      <th>                     </th>     <td> </td>   \n",
       "</tr>\n",
       "<tr>\n",
       "  <th>Covariance Type:</th>      <td>nonrobust</td>    <th>                     </th>     <td> </td>   \n",
       "</tr>\n",
       "</table>\n",
       "<table class=\"simpletable\">\n",
       "<tr>\n",
       "    <td></td>       <th>coef</th>     <th>std err</th>      <th>t</th>      <th>P>|t|</th>  <th>[0.025</th>    <th>0.975]</th>  \n",
       "</tr>\n",
       "<tr>\n",
       "  <th>const</th> <td>   40.2408</td> <td>    6.149</td> <td>    6.544</td> <td> 0.000</td> <td>   28.144</td> <td>   52.338</td>\n",
       "</tr>\n",
       "<tr>\n",
       "  <th>x1</th>    <td>   -0.0037</td> <td>    0.003</td> <td>   -1.368</td> <td> 0.172</td> <td>   -0.009</td> <td>    0.002</td>\n",
       "</tr>\n",
       "<tr>\n",
       "  <th>x2</th>    <td>    0.0298</td> <td>    0.076</td> <td>    0.394</td> <td> 0.694</td> <td>   -0.119</td> <td>    0.178</td>\n",
       "</tr>\n",
       "<tr>\n",
       "  <th>x3</th>    <td>    4.1573</td> <td>    1.177</td> <td>    3.534</td> <td> 0.000</td> <td>    1.843</td> <td>    6.472</td>\n",
       "</tr>\n",
       "<tr>\n",
       "  <th>x4</th>    <td>  -17.1698</td> <td>    4.957</td> <td>   -3.464</td> <td> 0.001</td> <td>  -26.923</td> <td>   -7.417</td>\n",
       "</tr>\n",
       "<tr>\n",
       "  <th>x5</th>    <td>    3.9450</td> <td>    0.529</td> <td>    7.455</td> <td> 0.000</td> <td>    2.904</td> <td>    4.986</td>\n",
       "</tr>\n",
       "<tr>\n",
       "  <th>x6</th>    <td>   -0.0103</td> <td>    0.017</td> <td>   -0.587</td> <td> 0.557</td> <td>   -0.045</td> <td>    0.024</td>\n",
       "</tr>\n",
       "<tr>\n",
       "  <th>x7</th>    <td>   -1.3018</td> <td>    0.255</td> <td>   -5.114</td> <td> 0.000</td> <td>   -1.803</td> <td>   -0.801</td>\n",
       "</tr>\n",
       "<tr>\n",
       "  <th>x8</th>    <td>    0.2847</td> <td>    0.082</td> <td>    3.491</td> <td> 0.001</td> <td>    0.124</td> <td>    0.445</td>\n",
       "</tr>\n",
       "<tr>\n",
       "  <th>x9</th>    <td>   -0.0093</td> <td>    0.005</td> <td>   -2.016</td> <td> 0.045</td> <td>   -0.018</td> <td>   -0.000</td>\n",
       "</tr>\n",
       "<tr>\n",
       "  <th>x10</th>   <td>   -0.9592</td> <td>    0.162</td> <td>   -5.927</td> <td> 0.000</td> <td>   -1.278</td> <td>   -0.641</td>\n",
       "</tr>\n",
       "<tr>\n",
       "  <th>x11</th>   <td>   -0.6378</td> <td>    0.063</td> <td>  -10.186</td> <td> 0.000</td> <td>   -0.761</td> <td>   -0.515</td>\n",
       "</tr>\n",
       "</table>\n",
       "<table class=\"simpletable\">\n",
       "<tr>\n",
       "  <th>Omnibus:</th>       <td>118.665</td> <th>  Durbin-Watson:     </th> <td>   1.038</td>\n",
       "</tr>\n",
       "<tr>\n",
       "  <th>Prob(Omnibus):</th> <td> 0.000</td>  <th>  Jarque-Bera (JB):  </th> <td> 440.066</td>\n",
       "</tr>\n",
       "<tr>\n",
       "  <th>Skew:</th>          <td> 1.535</td>  <th>  Prob(JB):          </th> <td>2.76e-96</td>\n",
       "</tr>\n",
       "<tr>\n",
       "  <th>Kurtosis:</th>      <td> 7.722</td>  <th>  Cond. No.          </th> <td>1.36e+04</td>\n",
       "</tr>\n",
       "</table><br/><br/>Warnings:<br/>[1] Standard Errors assume that the covariance matrix of the errors is correctly specified.<br/>[2] The condition number is large, 1.36e+04. This might indicate that there are<br/>strong multicollinearity or other numerical problems."
      ],
      "text/plain": [
       "<class 'statsmodels.iolib.summary.Summary'>\n",
       "\"\"\"\n",
       "                            OLS Regression Results                            \n",
       "==============================================================================\n",
       "Dep. Variable:                   medv   R-squared:                       0.717\n",
       "Model:                            OLS   Adj. R-squared:                  0.707\n",
       "Method:                 Least Squares   F-statistic:                     73.85\n",
       "Date:                Sun, 17 Nov 2019   Prob (F-statistic):           4.58e-81\n",
       "Time:                        01:20:55   Log-Likelihood:                -1000.0\n",
       "No. Observations:                 333   AIC:                             2024.\n",
       "Df Residuals:                     321   BIC:                             2070.\n",
       "Df Model:                          11                                         \n",
       "Covariance Type:            nonrobust                                         \n",
       "==============================================================================\n",
       "                 coef    std err          t      P>|t|      [0.025      0.975]\n",
       "------------------------------------------------------------------------------\n",
       "const         40.2408      6.149      6.544      0.000      28.144      52.338\n",
       "x1            -0.0037      0.003     -1.368      0.172      -0.009       0.002\n",
       "x2             0.0298      0.076      0.394      0.694      -0.119       0.178\n",
       "x3             4.1573      1.177      3.534      0.000       1.843       6.472\n",
       "x4           -17.1698      4.957     -3.464      0.001     -26.923      -7.417\n",
       "x5             3.9450      0.529      7.455      0.000       2.904       4.986\n",
       "x6            -0.0103      0.017     -0.587      0.557      -0.045       0.024\n",
       "x7            -1.3018      0.255     -5.114      0.000      -1.803      -0.801\n",
       "x8             0.2847      0.082      3.491      0.001       0.124       0.445\n",
       "x9            -0.0093      0.005     -2.016      0.045      -0.018      -0.000\n",
       "x10           -0.9592      0.162     -5.927      0.000      -1.278      -0.641\n",
       "x11           -0.6378      0.063    -10.186      0.000      -0.761      -0.515\n",
       "==============================================================================\n",
       "Omnibus:                      118.665   Durbin-Watson:                   1.038\n",
       "Prob(Omnibus):                  0.000   Jarque-Bera (JB):              440.066\n",
       "Skew:                           1.535   Prob(JB):                     2.76e-96\n",
       "Kurtosis:                       7.722   Cond. No.                     1.36e+04\n",
       "==============================================================================\n",
       "\n",
       "Warnings:\n",
       "[1] Standard Errors assume that the covariance matrix of the errors is correctly specified.\n",
       "[2] The condition number is large, 1.36e+04. This might indicate that there are\n",
       "strong multicollinearity or other numerical problems.\n",
       "\"\"\""
      ]
     },
     "execution_count": 48,
     "metadata": {},
     "output_type": "execute_result"
    }
   ],
   "source": [
    "model = sm.OLS(Y,X).fit()\n",
    "model.summary()"
   ]
  }
 ],
 "metadata": {
  "kernelspec": {
   "display_name": "Python 3",
   "language": "python",
   "name": "python3"
  },
  "language_info": {
   "codemirror_mode": {
    "name": "ipython",
    "version": 3
   },
   "file_extension": ".py",
   "mimetype": "text/x-python",
   "name": "python",
   "nbconvert_exporter": "python",
   "pygments_lexer": "ipython3",
   "version": "3.7.2"
  }
 },
 "nbformat": 4,
 "nbformat_minor": 2
}
