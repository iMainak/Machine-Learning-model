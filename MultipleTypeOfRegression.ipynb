{
 "cells": [
  {
   "cell_type": "code",
   "execution_count": 24,
   "metadata": {},
   "outputs": [],
   "source": [
    "import pandas as pd\n",
    "import matplotlib.pyplot as plt\n",
    "from sklearn.model_selection import train_test_split\n",
    "from sklearn.metrics import r2_score"
   ]
  },
  {
   "cell_type": "code",
   "execution_count": 25,
   "metadata": {},
   "outputs": [],
   "source": [
    "df = pd.read_csv(r\"C:\\Users\\mainakd\\Documents\\AKshayTask\\nlp\\machine_learning_self_study_udemy\\model\\datasets\\diamonds_processed.csv\")"
   ]
  },
  {
   "cell_type": "code",
   "execution_count": 26,
   "metadata": {},
   "outputs": [],
   "source": [
    "# Linear Regression\n",
    "from sklearn.linear_model import LinearRegression\n",
    "def linear_model(x_train, y_train):\n",
    "    print(\"Linear Regression\")\n",
    "    linear_regression = LinearRegression()\n",
    "    linear_regression.fit(x_train,y_train)\n",
    "    return linear_regression"
   ]
  },
  {
   "cell_type": "code",
   "execution_count": 27,
   "metadata": {},
   "outputs": [],
   "source": [
    "# Lasso Regression\n",
    "from sklearn.linear_model import Lasso\n",
    "\n",
    "def lasso_model(x_train,y_train):\n",
    "    print(\"Lasso Regression\")\n",
    "    lasso_regression = Lasso(alpha=0.8, max_iter=10000)\n",
    "    lasso_regression.fit(x_train,y_train)\n",
    "    return lasso_regression"
   ]
  },
  {
   "cell_type": "code",
   "execution_count": 28,
   "metadata": {},
   "outputs": [],
   "source": [
    "# Ridge Regression\n",
    "from sklearn.linear_model import Ridge\n",
    "\n",
    "def ridge_model(x_train,y_train):\n",
    "    print(\"Ridge Regression\")\n",
    "    ridge_regression = Ridge(alpha=0.9)\n",
    "    ridge_regression.fit(x_train,y_train)\n",
    "    return ridge_regression"
   ]
  },
  {
   "cell_type": "code",
   "execution_count": 29,
   "metadata": {},
   "outputs": [],
   "source": [
    "# build and trian model:\n",
    "def build_and_train_model(data, target_name, reg_fn):\n",
    "    X= data.drop(target_name, axis=1)\n",
    "    Y= data[target_name]\n",
    "    x_train, x_test,  y_train, y_test = train_test_split(X,Y, test_size = 0.2, random_state =0)\n",
    "    model = reg_fn(x_train,y_train)\n",
    "    \n",
    "    score = model.score(x_train,y_train)\n",
    "    print(\"Training Score : {}\".format(score))\n",
    "    \n",
    "    y_pred = model.predict(x_test)\n",
    "    r_score = r2_score(y_test, y_pred)\n",
    "    print(\"Testing Score : {}\".format(r_score))\n",
    "    \n",
    "    return {\n",
    "        \"model\": model,\n",
    "        \"x_train\":x_train, \"x_test\":x_test,\n",
    "        \"y_train\":y_train, \"y_test\":y_test\n",
    "    }\n"
   ]
  },
  {
   "cell_type": "code",
   "execution_count": 30,
   "metadata": {},
   "outputs": [
    {
     "name": "stdout",
     "output_type": "stream",
     "text": [
      "Linear Regression\n",
      "Training Score : 0.9091275126551162\n",
      "Testing Score : 0.8907675291721099\n"
     ]
    }
   ],
   "source": [
    "linear_reg = build_and_train_model(df, \"price\", linear_model)"
   ]
  },
  {
   "cell_type": "code",
   "execution_count": 31,
   "metadata": {},
   "outputs": [
    {
     "name": "stdout",
     "output_type": "stream",
     "text": [
      "Lasso Regression\n",
      "Training Score : 0.9091329011526925\n",
      "Testing Score : 0.8908237795556072\n"
     ]
    }
   ],
   "source": [
    "lasso_reg = build_and_train_model(df, \"price\", lasso_model)"
   ]
  },
  {
   "cell_type": "code",
   "execution_count": 32,
   "metadata": {},
   "outputs": [
    {
     "name": "stdout",
     "output_type": "stream",
     "text": [
      "Ridge Regression\n",
      "Training Score : 0.9091438449304261\n",
      "Testing Score : 0.8907743310343265\n"
     ]
    }
   ],
   "source": [
    "ridge_reg =build_and_train_model(df, \"price\", ridge_model)"
   ]
  },
  {
   "cell_type": "code",
   "execution_count": 33,
   "metadata": {},
   "outputs": [],
   "source": [
    "from sklearn.linear_model import SGDRegressor\n",
    "\n",
    "def sgd_model(x_train, y_train):\n",
    "    print(\"SGD Reegression\")\n",
    "    sgd_regression = SGDRegressor(max_iter=2000)\n",
    "    sgd_regression.fit(x_train, y_train)\n",
    "    return sgd_regression"
   ]
  },
  {
   "cell_type": "code",
   "execution_count": 34,
   "metadata": {},
   "outputs": [
    {
     "name": "stdout",
     "output_type": "stream",
     "text": [
      "SGD Reegression\n",
      "Training Score : 0.9086528054276078\n",
      "Testing Score : 0.8922334569950964\n"
     ]
    }
   ],
   "source": [
    "sgd_regression = build_and_train_model(df, 'price', sgd_model)"
   ]
  },
  {
   "cell_type": "code",
   "execution_count": null,
   "metadata": {},
   "outputs": [],
   "source": []
  },
  {
   "cell_type": "code",
   "execution_count": null,
   "metadata": {},
   "outputs": [],
   "source": []
  },
  {
   "cell_type": "code",
   "execution_count": null,
   "metadata": {},
   "outputs": [],
   "source": []
  }
 ],
 "metadata": {
  "kernelspec": {
   "display_name": "Python 3",
   "language": "python",
   "name": "python3"
  },
  "language_info": {
   "codemirror_mode": {
    "name": "ipython",
    "version": 3
   },
   "file_extension": ".py",
   "mimetype": "text/x-python",
   "name": "python",
   "nbconvert_exporter": "python",
   "pygments_lexer": "ipython3",
   "version": "3.7.2"
  }
 },
 "nbformat": 4,
 "nbformat_minor": 2
}
